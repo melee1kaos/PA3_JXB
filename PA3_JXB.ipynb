{
 "cells": [
  {
   "cell_type": "markdown",
   "id": "ca10c9de",
   "metadata": {},
   "source": [
    "# Programming Assignment 3\n",
    "# by Jesse Bicknell\n",
    "# version 3.11.5\n",
    "# CS150 Fall2023"
   ]
  },
  {
   "cell_type": "markdown",
   "id": "7e4dfa9b",
   "metadata": {},
   "source": [
    "## Task 1: List Operations"
   ]
  },
  {
   "cell_type": "markdown",
   "id": "50761bad",
   "metadata": {},
   "source": [
    "### A. Create a list "
   ]
  },
  {
   "cell_type": "code",
   "execution_count": 8,
   "id": "1e55c8dc",
   "metadata": {},
   "outputs": [],
   "source": [
    "numbers=[10,20,30,40,50]"
   ]
  },
  {
   "cell_type": "markdown",
   "id": "4ca614bd",
   "metadata": {},
   "source": [
    "### B. Append the number 60"
   ]
  },
  {
   "cell_type": "code",
   "execution_count": 9,
   "id": "eb4fea87",
   "metadata": {},
   "outputs": [],
   "source": [
    "numbers.append(60)"
   ]
  },
  {
   "cell_type": "markdown",
   "id": "f3141c48",
   "metadata": {},
   "source": [
    "### C. Insert 5 at the beginning of the list"
   ]
  },
  {
   "cell_type": "code",
   "execution_count": 10,
   "id": "b81e5006",
   "metadata": {},
   "outputs": [],
   "source": [
    "numbers.insert(0,5)"
   ]
  },
  {
   "cell_type": "markdown",
   "id": "0adfea31",
   "metadata": {},
   "source": [
    "### D. Remove the second element from the list"
   ]
  },
  {
   "cell_type": "code",
   "execution_count": 11,
   "id": "2f888f90",
   "metadata": {},
   "outputs": [],
   "source": [
    "numbers.remove(10)"
   ]
  },
  {
   "cell_type": "markdown",
   "id": "4a319c0e",
   "metadata": {},
   "source": [
    "### E. Print modified list"
   ]
  },
  {
   "cell_type": "code",
   "execution_count": 12,
   "id": "bb094bc7",
   "metadata": {},
   "outputs": [
    {
     "name": "stdout",
     "output_type": "stream",
     "text": [
      "[5, 20, 30, 40, 50, 60]\n"
     ]
    }
   ],
   "source": [
    "print(numbers)"
   ]
  },
  {
   "cell_type": "markdown",
   "id": "c81c35c2",
   "metadata": {},
   "source": [
    "## Task 2: Tuple Basics"
   ]
  },
  {
   "cell_type": "markdown",
   "id": "ad37c83a",
   "metadata": {},
   "source": [
    "### A. Create a tuple"
   ]
  },
  {
   "cell_type": "code",
   "execution_count": 13,
   "id": "8ff64675",
   "metadata": {},
   "outputs": [],
   "source": [
    "days=('Monday','Tuesday','Wednesday','Thursday','Friday','Saturday','Sunday')"
   ]
  },
  {
   "cell_type": "markdown",
   "id": "af678ba7",
   "metadata": {},
   "source": [
    "### B. Print the third day of the week"
   ]
  },
  {
   "cell_type": "code",
   "execution_count": 17,
   "id": "c7c1fae7",
   "metadata": {},
   "outputs": [
    {
     "name": "stdout",
     "output_type": "stream",
     "text": [
      "Wednesday\n"
     ]
    }
   ],
   "source": [
    "print(days[2])"
   ]
  },
  {
   "cell_type": "markdown",
   "id": "e9c0dc2a",
   "metadata": {},
   "source": [
    "### C. Attempt element modificaiton"
   ]
  },
  {
   "cell_type": "code",
   "execution_count": 21,
   "id": "731d8918",
   "metadata": {},
   "outputs": [
    {
     "ename": "TypeError",
     "evalue": "'tuple' object does not support item assignment",
     "output_type": "error",
     "traceback": [
      "\u001b[1;31m---------------------------------------------------------------------------\u001b[0m",
      "\u001b[1;31mTypeError\u001b[0m                                 Traceback (most recent call last)",
      "Cell \u001b[1;32mIn[21], line 1\u001b[0m\n\u001b[1;32m----> 1\u001b[0m days[\u001b[38;5;241m2\u001b[39m]\u001b[38;5;241m=\u001b[39m\u001b[38;5;124m'\u001b[39m\u001b[38;5;124mFunday\u001b[39m\u001b[38;5;124m'\u001b[39m\n",
      "\u001b[1;31mTypeError\u001b[0m: 'tuple' object does not support item assignment"
     ]
    }
   ],
   "source": [
    "days[2]='Funday' "
   ]
  },
  {
   "cell_type": "markdown",
   "id": "83ebca1c",
   "metadata": {},
   "source": [
    "#### The error is a type error. Tuples are immutable and cannot be changed. Since days is a tuple trying to change an element within it is in opposition to what Python recognizes is possible to do with a tuple. "
   ]
  },
  {
   "cell_type": "markdown",
   "id": "20135914",
   "metadata": {},
   "source": [
    "## Task 3: Reversing a Sublist"
   ]
  },
  {
   "cell_type": "markdown",
   "id": "e02aae74",
   "metadata": {},
   "source": [
    "### A. Creat a list"
   ]
  },
  {
   "cell_type": "code",
   "execution_count": 22,
   "id": "e94a66a6",
   "metadata": {},
   "outputs": [],
   "source": [
    "letters=['a', 'b', 'c', 'd', 'e', 'f', 'g', 'h', 'i', 'j', 'k', 'l', 'm', 'n', 'o', 'p', 'q', 'r', 's', 't', 'u', 'v', 'w', 'x', 'y', 'z']"
   ]
  },
  {
   "cell_type": "markdown",
   "id": "cad15a67",
   "metadata": {},
   "source": [
    "### B. Slice to extract sublist"
   ]
  },
  {
   "cell_type": "code",
   "execution_count": 40,
   "id": "d8d8b1e1",
   "metadata": {},
   "outputs": [
    {
     "name": "stdout",
     "output_type": "stream",
     "text": [
      "['k', 'l', 'm', 'n', 'o', 'p']\n"
     ]
    }
   ],
   "source": [
    "sublist=letters[10:16] \n",
    "print(sublist)"
   ]
  },
  {
   "cell_type": "markdown",
   "id": "008cfab3",
   "metadata": {},
   "source": [
    "#### The assignmnet says to slice and extract [p,o,n,m,l,k] in part B which is descending alphabetically. Since the list letters is described as being ascending aphabetically I am assuming the sublist I am slicing is supposed to be [k,l,m,n,o,p] and the list given in the assignment in part B describes the answer for part C as shown below."
   ]
  },
  {
   "cell_type": "markdown",
   "id": "3d27bef9",
   "metadata": {},
   "source": [
    "### C. Reverse the sublist and print"
   ]
  },
  {
   "cell_type": "code",
   "execution_count": 41,
   "id": "0a951905",
   "metadata": {},
   "outputs": [
    {
     "name": "stdout",
     "output_type": "stream",
     "text": [
      "['p', 'o', 'n', 'm', 'l', 'k']\n"
     ]
    }
   ],
   "source": [
    "sublist.reverse()\n",
    "print(sublist)"
   ]
  },
  {
   "cell_type": "markdown",
   "id": "e12037fa",
   "metadata": {},
   "source": [
    "## Task 4: Tuple Packing and Unpacking"
   ]
  },
  {
   "cell_type": "markdown",
   "id": "e2236035",
   "metadata": {},
   "source": [
    "### A. Create a tuple"
   ]
  },
  {
   "cell_type": "code",
   "execution_count": 49,
   "id": "cde599cb",
   "metadata": {},
   "outputs": [
    {
     "name": "stdout",
     "output_type": "stream",
     "text": [
      "('Jesse', 'Bicknell', 31, 'communication')\n"
     ]
    }
   ],
   "source": [
    "student=('Jesse','Bicknell',31,'communication')\n",
    "print(student)"
   ]
  },
  {
   "cell_type": "markdown",
   "id": "149e5db7",
   "metadata": {},
   "source": [
    "### B. Unpack and individually print"
   ]
  },
  {
   "cell_type": "code",
   "execution_count": 50,
   "id": "fbca0487",
   "metadata": {},
   "outputs": [],
   "source": [
    "first_name, last_name, age, favorite_subject=student"
   ]
  },
  {
   "cell_type": "code",
   "execution_count": 51,
   "id": "16f2fa22",
   "metadata": {},
   "outputs": [
    {
     "name": "stdout",
     "output_type": "stream",
     "text": [
      "Jesse\n"
     ]
    }
   ],
   "source": [
    "print(first_name)"
   ]
  },
  {
   "cell_type": "code",
   "execution_count": 52,
   "id": "546c70e6",
   "metadata": {},
   "outputs": [
    {
     "name": "stdout",
     "output_type": "stream",
     "text": [
      "Bicknell\n"
     ]
    }
   ],
   "source": [
    "print(last_name)"
   ]
  },
  {
   "cell_type": "code",
   "execution_count": 53,
   "id": "87f90159",
   "metadata": {},
   "outputs": [
    {
     "name": "stdout",
     "output_type": "stream",
     "text": [
      "31\n"
     ]
    }
   ],
   "source": [
    "print(age)"
   ]
  },
  {
   "cell_type": "code",
   "execution_count": 54,
   "id": "41e0136e",
   "metadata": {},
   "outputs": [
    {
     "name": "stdout",
     "output_type": "stream",
     "text": [
      "communication\n"
     ]
    }
   ],
   "source": [
    "print(favorite_subject)"
   ]
  },
  {
   "cell_type": "markdown",
   "id": "26967202",
   "metadata": {},
   "source": [
    "## Task 5: Shopping List"
   ]
  },
  {
   "cell_type": "markdown",
   "id": "8a63f540",
   "metadata": {},
   "source": [
    "### A. Create a list"
   ]
  },
  {
   "cell_type": "code",
   "execution_count": 55,
   "id": "ed5f513d",
   "metadata": {},
   "outputs": [],
   "source": [
    "shopping_list=['onion','eggs','milk','lunch meat','bread']"
   ]
  },
  {
   "cell_type": "markdown",
   "id": "43b0bc8e",
   "metadata": {},
   "source": [
    "### B. Print number of items"
   ]
  },
  {
   "cell_type": "code",
   "execution_count": 56,
   "id": "4537b63f",
   "metadata": {},
   "outputs": [
    {
     "name": "stdout",
     "output_type": "stream",
     "text": [
      "5\n"
     ]
    }
   ],
   "source": [
    "print(len(shopping_list))"
   ]
  },
  {
   "cell_type": "markdown",
   "id": "10e46587",
   "metadata": {},
   "source": [
    "### C. Replace the third item"
   ]
  },
  {
   "cell_type": "code",
   "execution_count": 57,
   "id": "c016e7fc",
   "metadata": {},
   "outputs": [
    {
     "name": "stdout",
     "output_type": "stream",
     "text": [
      "['onion', 'eggs', 'juice', 'lunch meat', 'bread']\n"
     ]
    }
   ],
   "source": [
    "shopping_list[2]='juice'\n",
    "print(shopping_list)"
   ]
  },
  {
   "cell_type": "markdown",
   "id": "28b5c9a6",
   "metadata": {},
   "source": [
    "### D. Sort the list "
   ]
  },
  {
   "cell_type": "code",
   "execution_count": 59,
   "id": "12aa5a25",
   "metadata": {},
   "outputs": [],
   "source": [
    "shopping_list.sort()"
   ]
  },
  {
   "cell_type": "markdown",
   "id": "52fb9abe",
   "metadata": {},
   "source": [
    "### E. Print the sorted shopping list "
   ]
  },
  {
   "cell_type": "code",
   "execution_count": 60,
   "id": "bb14d445",
   "metadata": {},
   "outputs": [
    {
     "name": "stdout",
     "output_type": "stream",
     "text": [
      "['bread', 'eggs', 'juice', 'lunch meat', 'onion']\n"
     ]
    }
   ],
   "source": [
    "print(shopping_list)"
   ]
  }
 ],
 "metadata": {
  "kernelspec": {
   "display_name": "Python 3 (ipykernel)",
   "language": "python",
   "name": "python3"
  },
  "language_info": {
   "codemirror_mode": {
    "name": "ipython",
    "version": 3
   },
   "file_extension": ".py",
   "mimetype": "text/x-python",
   "name": "python",
   "nbconvert_exporter": "python",
   "pygments_lexer": "ipython3",
   "version": "3.11.5"
  }
 },
 "nbformat": 4,
 "nbformat_minor": 5
}
